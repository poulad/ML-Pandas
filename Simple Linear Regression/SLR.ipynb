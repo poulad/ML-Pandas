{
 "cells": [
  {
   "cell_type": "markdown",
   "metadata": {
    "collapsed": true
   },
   "source": [
    "# Simple Linear Regression\n",
    "\n",
    "### theory:\n",
    "- https://machinelearningmastery.com/simple-linear-regression-tutorial-for-machine-learning/\n",
    "- https://onlinecourses.science.psu.edu/stat501/node/251/\n",
    "- https://en.wikipedia.org/wiki/Simple_linear_regression\n",
    "- https://en.wikipedia.org/wiki/Root-mean-square_deviation\n",
    "\n",
    "### impl:\n",
    "- https://machinelearningmastery.com/implement-simple-linear-regression-scratch-python/\n",
    "\n",
    "### data reference:\n",
    "\n",
    "[Swedish Committee on Analysis of Risk Premium in Motor Insurance](http://college.hmco.com/mathematics/brase/understandable_statistics/7e/students/datasets/slr/frames/frame.html)\n"
   ]
  },
  {
   "cell_type": "code",
   "execution_count": 115,
   "metadata": {},
   "outputs": [],
   "source": [
    "data = [\n",
    "    [108, 392.5], [19, 46.2], [13, 15.7], [124, 422.2], [40, 119.4], [57, 170.9], [23, 56.9],\n",
    "    [14, 77.5], [45, 214], [10, 65.3], [5, 20.9], [48, 248.1], [11, 23.5], [23, 39.6],\n",
    "    [7, 48.8], [2, 6.6], [24, 134.9], [6, 50.9], [3, 4.4], [23, 113], [6, 14.8], [9, 48.7],\n",
    "    [9, 52.1], [3, 13.2], [29, 103.9], [7, 77.5], [4, 11.8], [20, 98.1], [7, 27.9],\n",
    "    [4, 38.1], [0, 0], [25, 69.2], [6, 14.6], [5, 40.3], [22, 161.5], [11, 57.2], [61, 217.6],\n",
    "    [12, 58.1], [4, 12.6], [16, 59.6], [13, 89.9], [60, 202.4], [41, 181.3], [37, 152.8],\n",
    "    [55, 162.8], [41, 73.4], [11, 21.3], [27, 92.6], [8, 76.1], [3, 39.9], [17, 142.1],\n",
    "    [13, 93], [13, 31.9], [15, 32.1], [8, 55.6], [29, 133.3], [30, 194.5], [24, 137.9],\n",
    "    [9, 87.4], [31, 209.8], [14, 95.5], [53, 244.6], [26, 187.5]\n",
    "]\n"
   ]
  },
  {
   "cell_type": "code",
   "execution_count": 116,
   "metadata": {},
   "outputs": [],
   "source": [
    "# sort by x (number of claims)\n",
    "data.sort(key=lambda pair: pair[0])\n"
   ]
  },
  {
   "cell_type": "code",
   "execution_count": 117,
   "metadata": {},
   "outputs": [],
   "source": [
    "import matplotlib.pyplot as plt\n",
    "import numpy as np\n",
    "\n",
    "%matplotlib inline\n"
   ]
  },
  {
   "cell_type": "code",
   "execution_count": 118,
   "metadata": {
    "collapsed": true
   },
   "outputs": [
    {
     "data": {
      "text/plain": [
       "Text(0, 0.5, 'payment in thousands of Swedish Kronor')"
      ]
     },
     "execution_count": 118,
     "metadata": {},
     "output_type": "execute_result"
    },
    {
     "data": {
      "image/png": "[encoded data removed]",
      "text/plain": [
       "<Figure size 432x288 with 1 Axes>"
      ]
     },
     "metadata": {},
     "output_type": "display_data"
    }
   ],
   "source": [
    "x = np.array([pair[0] for pair in data])\n",
    "y = np.array([pair[1] for pair in data])\n",
    "colors = np.random.rand(len(data))\n",
    "\n",
    "plt.scatter(x, y, c=colors, alpha=.5)\n",
    "plt.title(\"Scattered Plot of the Dataset\")\n",
    "plt.xlabel('number of claims')\n",
    "plt.ylabel('payment in thousands of Swedish Kronor')\n"
   ]
  },
  {
   "cell_type": "code",
   "execution_count": 119,
   "metadata": {},
   "outputs": [],
   "source": [
    "def mean(values):\n",
    "    return sum(values) / len(values)\n"
   ]
  },
  {
   "cell_type": "code",
   "execution_count": 120,
   "metadata": {},
   "outputs": [],
   "source": [
    "def variance(values):\n",
    "    values_mean = mean(values)\n",
    "    return sum([(x - values_mean) ** 2 for x in values])\n"
   ]
  },
  {
   "cell_type": "code",
   "execution_count": 121,
   "metadata": {},
   "outputs": [],
   "source": []
  }
 ],
 "metadata": {
  "kernelspec": {
   "display_name": "Python 2",
   "language": "python",
   "name": "python2"
  },
  "language_info": {
   "codemirror_mode": {
    "name": "ipython",
    "version": 2
   },
   "file_extension": ".py",
   "mimetype": "text/x-python",
   "name": "python",
   "nbconvert_exporter": "python",
   "pygments_lexer": "ipython2",
   "version": "2.7.6"
  }
 },
 "nbformat": 4,
 "nbformat_minor": 0
}
